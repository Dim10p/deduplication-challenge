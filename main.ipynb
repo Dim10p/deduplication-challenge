{
 "cells": [
  {
   "cell_type": "markdown",
   "id": "56167ff5-e0d8-4a73-aae8-f77ac4e5d986",
   "metadata": {},
   "source": [
    "# Web Intelligence - Deduplication Challenge"
   ]
  },
  {
   "cell_type": "markdown",
   "id": "dc4c6cf5-133b-4719-9eed-3e7c5a92a19b",
   "metadata": {},
   "source": [
    "This jupyter notebook contains brief documentation and all function calls which are used to reproduce our results."
   ]
  },
  {
   "cell_type": "markdown",
   "id": "65b9f73e-0a67-40fa-b7b1-87fd4e9b1645",
   "metadata": {},
   "source": [
    "<b>Table of contents:</b><br>\n",
    "I. TheDeDuplicators: Team composition<br>\n",
    "II. Brief description of the approach and all steps<br>\n",
    "III. Reproducibility<br>\n",
    "IV. Final output and summary"
   ]
  },
  {
   "cell_type": "markdown",
   "id": "5bdc4a34-65f2-417c-829f-e3bb06fac2bc",
   "metadata": {},
   "source": [
    "## I. TheDeDuplicators: Team composition"
   ]
  },
  {
   "cell_type": "markdown",
   "id": "288489ff-ef87-479d-a3ea-35a427643f68",
   "metadata": {},
   "source": [
    "<img src=\"images/logo.PNG\"  width=\"200px\"/>\n",
    "<p style=\"font-size: 14px\">\n",
    "Dimitrios Petridis, MSc Economics, Data Analyst<br><br>\n",
    "Stefan Pasch, PhD Economics, Data Scientist<br><br>\n",
    "Jannic Cutura, PhD Economics, Data & Software Engineer<br><br>\n",
    "Charalampos Lagonidis, MSc student (AI and Data Analytics), Research Assistant (NLP)\n",
    "<br clear=\"left\"/>"
   ]
  },
  {
   "cell_type": "markdown",
   "id": "f908a864-4d74-488c-ae4c-41f4b84d06e5",
   "metadata": {},
   "source": [
    "## II. Brief description of the approach and all steps\n",
    "1) [**`find_perfect_matches.py`**](src/find_perfect_matches.py): Finds all <b>FULL</b> and all (full) <b>TEMPORAL</b> duplicates. Full duplicates are exactly identical in terms of title, description and retrieval date. In this step, we also identify a large group of temporal duplicates, where description and title perfectly align, but the retrievel dates differ. This process is applied on the raw data before the text preprocessing takes place.\n",
    " \n",
    "2) [**`clean_input_dataset.py`**](src/clean_input_data_set.py): An initial cleaning step (text preprocessing) which peforms multiple operations on the raw data (e.g, removes spurious information like HTML tags etc.) and yields an intermediate dataset.\n",
    " \n",
    "3) [**`prepare_input_for_embedding.py`**](src/prepare_input_for_embedding.py): Translates the non-English descriptions of the cleaned dataset into English using the GoogleTrans API. The translation is optional, but highly recommended in order to improve the accuracy later. Finally, it merges title and description applying a weight on the title.\n",
    " \n",
    "4) [**`pre_filtering_for_plausible_matches.py`**](src/pre_filtering_for_plausible_matches.py): Given the vast number of job postings, which is around 120,000, comparing each one against every other one would result in an impractical 6.27 billion combinations. This is because individual comparisons may not be simple. Therefore, before applying more expert rule selection criteria, we must reduce the complexity. To accomplish this, we utilize a combination of embedding models and FAISS index search:\n",
    "   \n",
    "    a) We utilize a language embedding model on all distinct values of the job title and job description from the previous step (translated or original job postings). The MPNET model is one of the latest embedding models that can project text information into a vector space. If two pieces of text convey the same message but are worded differently, they will point to a comparable vector of 384 floating point numbers. In case the dataset is not translated, MINILM or DISTILUSE multilingual models can be used, instead.\n",
    "   \n",
    "    b) To identify partial, temporal and semantic duplicates, we compare these vectors with one another by calculating the L2 distance between each pair. We have created the most effective implementation of this comparison by using a FAISS index search, which is similar in essence to Lucene's elastic search. We store the 100 nearest matches for each ID.\n",
    "    \n",
    "    c) Lastly, we reassemble the pre-filtered dataset, excluding the duplicates found in step 1.\n",
    "\n",
    "5) [**`apply_expert_rules.py`**](src/embedding_process/apply_expert_rules.py): After acquiring the 100 nearest matches for each job ID, we have reduced the complexity of the issue by 99.9%, which is roughly ((112000-100)/112000)! With this subset of matched tuples, we apply some more computationally intensive expert rules based on string similarity and overlaps. These expert rules enable us to distinguish between <b>SEMANTIC</b>, <b>TEMPORAL</b> and <b>PARTIAL</b> duplicates."
   ]
  },
  {
   "cell_type": "markdown",
   "id": "897d7ef8-144e-460e-a7b8-987664c2a5ad",
   "metadata": {},
   "source": [
    "## III. Reproducibility\n",
    "In order to reproduce our results, execute the code below, by following the instructions/steps. For a more detailed description, please refer to the [Reproducibility Approach Document](./assets/reproducibility_approach_description.pdf). "
   ]
  },
  {
   "cell_type": "markdown",
   "id": "cc4c4322-5941-4ea0-86f8-c769e850b1d6",
   "metadata": {},
   "source": [
    "### Preliminary steps"
   ]
  },
  {
   "cell_type": "markdown",
   "id": "38f51142-7b43-48bc-bd28-00b27820169d",
   "metadata": {},
   "source": [
    "Before starting, make sure to create a new folder in the root directory named `data`. Inside that directory, create a subdirectory named `input_data`, and place the input data set here: [`data/input_data/wi_dataset.csv`](data/input_data/wi_dataset.csv). Everything else should work as describe below. "
   ]
  },
  {
   "cell_type": "markdown",
   "id": "966f7c8c-b3da-4580-879a-b11a4286d5cb",
   "metadata": {},
   "source": [
    "Next, you need to install all the dependencies, which are tracked in [**`requirements.txt`**](requirements.txt) (as this is typical for a python project):"
   ]
  },
  {
   "cell_type": "code",
   "execution_count": 1,
   "id": "c326d4c6",
   "metadata": {
    "tags": []
   },
   "outputs": [
    {
     "name": "stdout",
     "output_type": "stream",
     "text": [
      "Collecting pandas==1.5.3\n",
      "  Downloading pandas-1.5.3-cp311-cp311-manylinux_2_17_x86_64.manylinux2014_x86_64.whl (12.0 MB)\n",
      "\u001b[2K     \u001b[90m━━━━━━━━━━━━━━━━━━━━━━━━━━━━━━━━━━━━━━━━\u001b[0m \u001b[32m12.0/12.0 MB\u001b[0m \u001b[31m72.0 MB/s\u001b[0m eta \u001b[36m0:00:00\u001b[0m00:01\u001b[0m0:01\u001b[0m\n",
      "\u001b[?25hCollecting numpy==1.23.5\n",
      "  Downloading numpy-1.23.5-cp311-cp311-manylinux_2_17_x86_64.manylinux2014_x86_64.whl (17.1 MB)\n",
      "\u001b[2K     \u001b[90m━━━━━━━━━━━━━━━━━━━━━━━━━━━━━━━━━━━━━━━━\u001b[0m \u001b[32m17.1/17.1 MB\u001b[0m \u001b[31m75.9 MB/s\u001b[0m eta \u001b[36m0:00:00\u001b[0m00:01\u001b[0m00:01\u001b[0m\n",
      "\u001b[?25hCollecting tqdm==4.65.0\n",
      "  Downloading tqdm-4.65.0-py3-none-any.whl (77 kB)\n",
      "\u001b[2K     \u001b[90m━━━━━━━━━━━━━━━━━━━━━━━━━━━━━━━━━━━━━━━━\u001b[0m \u001b[32m77.1/77.1 kB\u001b[0m \u001b[31m24.1 MB/s\u001b[0m eta \u001b[36m0:00:00\u001b[0m\n",
      "\u001b[?25hCollecting faiss-cpu==1.7.3\n",
      "  Downloading faiss_cpu-1.7.3-cp311-cp311-manylinux_2_17_x86_64.manylinux2014_x86_64.whl (17.0 MB)\n",
      "\u001b[2K     \u001b[90m━━━━━━━━━━━━━━━━━━━━━━━━━━━━━━━━━━━━━━━━\u001b[0m \u001b[32m17.0/17.0 MB\u001b[0m \u001b[31m74.4 MB/s\u001b[0m eta \u001b[36m0:00:00\u001b[0m00:01\u001b[0m00:01\u001b[0m\n",
      "\u001b[?25hCollecting nltk==3.8.1\n",
      "  Using cached nltk-3.8.1-py3-none-any.whl (1.5 MB)\n",
      "Collecting googletrans==3.1.0a0\n",
      "  Downloading googletrans-3.1.0a0.tar.gz (19 kB)\n",
      "  Preparing metadata (setup.py) ... \u001b[?25ldone\n",
      "\u001b[?25hCollecting sentence-transformers==2.2.2\n",
      "  Using cached sentence-transformers-2.2.2.tar.gz (85 kB)\n",
      "  Preparing metadata (setup.py) ... \u001b[?25ldone\n",
      "\u001b[?25hCollecting transformers==4.25.1\n",
      "  Downloading transformers-4.25.1-py3-none-any.whl (5.8 MB)\n",
      "\u001b[2K     \u001b[90m━━━━━━━━━━━━━━━━━━━━━━━━━━━━━━━━━━━━━━━━\u001b[0m \u001b[32m5.8/5.8 MB\u001b[0m \u001b[31m55.3 MB/s\u001b[0m eta \u001b[36m0:00:00\u001b[0m00:01\u001b[0m:00:01\u001b[0m\n",
      "\u001b[?25hCollecting memory-profiler==0.61.0\n",
      "  Using cached memory_profiler-0.61.0-py3-none-any.whl (31 kB)\n",
      "Collecting swifter==1.3.4\n",
      "  Downloading swifter-1.3.4.tar.gz (830 kB)\n",
      "\u001b[2K     \u001b[90m━━━━━━━━━━━━━━━━━━━━━━━━━━━━━━━━━━━━━━\u001b[0m \u001b[32m830.9/830.9 kB\u001b[0m \u001b[31m60.3 MB/s\u001b[0m eta \u001b[36m0:00:00\u001b[0m\n",
      "\u001b[?25h  Preparing metadata (setup.py) ... \u001b[?25ldone\n",
      "\u001b[?25hCollecting pyarrow==10.0.1\n",
      "  Downloading pyarrow-10.0.1-cp311-cp311-manylinux_2_17_x86_64.manylinux2014_x86_64.whl (35.8 MB)\n",
      "\u001b[2K     \u001b[90m━━━━━━━━━━━━━━━━━━━━━━━━━━━━━━━━━━━━━━━━\u001b[0m \u001b[32m35.8/35.8 MB\u001b[0m \u001b[31m46.3 MB/s\u001b[0m eta \u001b[36m0:00:00\u001b[0m00:01\u001b[0m00:01\u001b[0m\n",
      "\u001b[?25hCollecting regex==2022.10.31\n",
      "  Downloading regex-2022.10.31-cp311-cp311-manylinux_2_17_x86_64.manylinux2014_x86_64.whl (781 kB)\n",
      "\u001b[2K     \u001b[90m━━━━━━━━━━━━━━━━━━━━━━━━━━━━━━━━━━━━━━\u001b[0m \u001b[32m781.1/781.1 kB\u001b[0m \u001b[31m85.4 MB/s\u001b[0m eta \u001b[36m0:00:00\u001b[0m\n",
      "\u001b[?25hCollecting fuzzywuzzy==0.18.0\n",
      "  Using cached fuzzywuzzy-0.18.0-py2.py3-none-any.whl (18 kB)\n",
      "Collecting matplotlib==3.7.1\n",
      "  Downloading matplotlib-3.7.1-cp311-cp311-manylinux_2_17_x86_64.manylinux2014_x86_64.whl (11.6 MB)\n",
      "\u001b[2K     \u001b[90m━━━━━━━━━━━━━━━━━━━━━━━━━━━━━━━━━━━━━━━━\u001b[0m \u001b[32m11.6/11.6 MB\u001b[0m \u001b[31m73.3 MB/s\u001b[0m eta \u001b[36m0:00:00\u001b[0m00:01\u001b[0m00:01\u001b[0m\n",
      "\u001b[?25hCollecting python-Levenshtein==0.20.9\n",
      "  Using cached python_Levenshtein-0.20.9-py3-none-any.whl (9.4 kB)\n",
      "Collecting ipywidgets==7.5.0\n",
      "  Downloading ipywidgets-7.5.0-py2.py3-none-any.whl (121 kB)\n",
      "\u001b[2K     \u001b[90m━━━━━━━━━━━━━━━━━━━━━━━━━━━━━━━━━━━━━━\u001b[0m \u001b[32m121.5/121.5 kB\u001b[0m \u001b[31m31.7 MB/s\u001b[0m eta \u001b[36m0:00:00\u001b[0m\n",
      "\u001b[?25hRequirement already satisfied: python-dateutil>=2.8.1 in /home/studio-lab-user/.conda/envs/reproducibility/lib/python3.11/site-packages (from pandas==1.5.3->-r requirements.txt (line 1)) (2.8.2)\n",
      "Collecting pytz>=2020.1\n",
      "  Downloading pytz-2023.3-py2.py3-none-any.whl (502 kB)\n",
      "\u001b[2K     \u001b[90m━━━━━━━━━━━━━━━━━━━━━━━━━━━━━━━━━━━━━━\u001b[0m \u001b[32m502.3/502.3 kB\u001b[0m \u001b[31m64.6 MB/s\u001b[0m eta \u001b[36m0:00:00\u001b[0m\n",
      "\u001b[?25hCollecting click\n",
      "  Using cached click-8.1.3-py3-none-any.whl (96 kB)\n",
      "Collecting joblib\n",
      "  Using cached joblib-1.2.0-py3-none-any.whl (297 kB)\n",
      "Collecting httpx==0.13.3\n",
      "  Using cached httpx-0.13.3-py3-none-any.whl (55 kB)\n",
      "Collecting torch>=1.6.0\n",
      "  Downloading torch-2.0.0-cp311-cp311-manylinux1_x86_64.whl (619.9 MB)\n",
      "\u001b[2K     \u001b[90m━━━━━━━━━━━━━━━━━━━━━━━━━━━━━━━━━━━━━━━\u001b[0m \u001b[32m619.9/619.9 MB\u001b[0m \u001b[31m2.1 MB/s\u001b[0m eta \u001b[36m0:00:00\u001b[0m00:01\u001b[0m00:01\u001b[0m\n",
      "\u001b[?25hCollecting torchvision\n",
      "  Downloading torchvision-0.15.1-cp311-cp311-manylinux1_x86_64.whl (6.0 MB)\n",
      "\u001b[2K     \u001b[90m━━━━━━━━━━━━━━━━━━━━━━━━━━━━━━━━━━━━━━━━\u001b[0m \u001b[32m6.0/6.0 MB\u001b[0m \u001b[31m114.1 MB/s\u001b[0m eta \u001b[36m0:00:00\u001b[0m00:01\u001b[0m\n",
      "\u001b[?25hCollecting scikit-learn\n",
      "  Downloading scikit_learn-1.2.2-cp311-cp311-manylinux_2_17_x86_64.manylinux2014_x86_64.whl (9.6 MB)\n",
      "\u001b[2K     \u001b[90m━━━━━━━━━━━━━━━━━━━━━━━━━━━━━━━━━━━━━━━━\u001b[0m \u001b[32m9.6/9.6 MB\u001b[0m \u001b[31m97.3 MB/s\u001b[0m eta \u001b[36m0:00:00\u001b[0m:00:01\u001b[0m00:01\u001b[0m\n",
      "\u001b[?25hCollecting scipy\n",
      "  Downloading scipy-1.10.1-cp311-cp311-manylinux_2_17_x86_64.manylinux2014_x86_64.whl (34.1 MB)\n",
      "\u001b[2K     \u001b[90m━━━━━━━━━━━━━━━━━━━━━━━━━━━━━━━━━━━━━━━━\u001b[0m \u001b[32m34.1/34.1 MB\u001b[0m \u001b[31m55.9 MB/s\u001b[0m eta \u001b[36m0:00:00\u001b[0m00:01\u001b[0m00:01\u001b[0m\n",
      "\u001b[?25hCollecting sentencepiece\n",
      "  Downloading sentencepiece-0.1.98-cp311-cp311-manylinux_2_17_x86_64.manylinux2014_x86_64.whl (1.3 MB)\n",
      "\u001b[2K     \u001b[90m━━━━━━━━━━━━━━━━━━━━━━━━━━━━━━━━━━━━━━━━\u001b[0m \u001b[32m1.3/1.3 MB\u001b[0m \u001b[31m91.9 MB/s\u001b[0m eta \u001b[36m0:00:00\u001b[0m\n",
      "\u001b[?25hCollecting huggingface-hub>=0.4.0\n",
      "  Downloading huggingface_hub-0.13.4-py3-none-any.whl (200 kB)\n",
      "\u001b[2K     \u001b[90m━━━━━━━━━━━━━━━━━━━━━━━━━━━━━━━━━━━━━━\u001b[0m \u001b[32m200.1/200.1 kB\u001b[0m \u001b[31m39.9 MB/s\u001b[0m eta \u001b[36m0:00:00\u001b[0m\n",
      "\u001b[?25hCollecting filelock\n",
      "  Downloading filelock-3.11.0-py3-none-any.whl (10.0 kB)\n",
      "Requirement already satisfied: packaging>=20.0 in /home/studio-lab-user/.conda/envs/reproducibility/lib/python3.11/site-packages (from transformers==4.25.1->-r requirements.txt (line 8)) (23.1)\n",
      "Collecting pyyaml>=5.1\n",
      "  Downloading PyYAML-6.0-cp311-cp311-manylinux_2_17_x86_64.manylinux2014_x86_64.whl (757 kB)\n",
      "\u001b[2K     \u001b[90m━━━━━━━━━━━━━━━━━━━━━━━━━━━━━━━━━━━━━━\u001b[0m \u001b[32m757.9/757.9 kB\u001b[0m \u001b[31m88.5 MB/s\u001b[0m eta \u001b[36m0:00:00\u001b[0m\n",
      "\u001b[?25hCollecting requests\n",
      "  Using cached requests-2.28.2-py3-none-any.whl (62 kB)\n",
      "Collecting tokenizers!=0.11.3,<0.14,>=0.11.1\n",
      "  Downloading tokenizers-0.13.3-cp311-cp311-manylinux_2_17_x86_64.manylinux2014_x86_64.whl (7.8 MB)\n",
      "\u001b[2K     \u001b[90m━━━━━━━━━━━━━━━━━━━━━━━━━━━━━━━━━━━━━━━━\u001b[0m \u001b[32m7.8/7.8 MB\u001b[0m \u001b[31m118.8 MB/s\u001b[0m eta \u001b[36m0:00:00\u001b[0ma \u001b[36m0:00:01\u001b[0m\n",
      "\u001b[?25hRequirement already satisfied: psutil in /home/studio-lab-user/.conda/envs/reproducibility/lib/python3.11/site-packages (from memory-profiler==0.61.0->-r requirements.txt (line 9)) (5.9.4)\n",
      "Collecting dask[dataframe]>=2.10.0\n",
      "  Downloading dask-2023.4.0-py3-none-any.whl (1.2 MB)\n",
      "\u001b[2K     \u001b[90m━━━━━━━━━━━━━━━━━━━━━━━━━━━━━━━━━━━━━━━━\u001b[0m \u001b[32m1.2/1.2 MB\u001b[0m \u001b[31m101.6 MB/s\u001b[0m eta \u001b[36m0:00:00\u001b[0m\n",
      "\u001b[?25hCollecting cloudpickle>=0.2.2\n",
      "  Downloading cloudpickle-2.2.1-py3-none-any.whl (25 kB)\n",
      "Requirement already satisfied: parso>0.4.0 in /home/studio-lab-user/.conda/envs/reproducibility/lib/python3.11/site-packages (from swifter==1.3.4->-r requirements.txt (line 10)) (0.8.3)\n",
      "Collecting bleach>=3.1.1\n",
      "  Downloading bleach-6.0.0-py3-none-any.whl (162 kB)\n",
      "\u001b[2K     \u001b[90m━━━━━━━━━━━━━━━━━━━━━━━━━━━━━━━━━━━━━━\u001b[0m \u001b[32m162.5/162.5 kB\u001b[0m \u001b[31m41.3 MB/s\u001b[0m eta \u001b[36m0:00:00\u001b[0m\n",
      "\u001b[?25hCollecting contourpy>=1.0.1\n",
      "  Downloading contourpy-1.0.7-cp311-cp311-manylinux_2_17_x86_64.manylinux2014_x86_64.whl (299 kB)\n",
      "\u001b[2K     \u001b[90m━━━━━━━━━━━━━━━━━━━━━━━━━━━━━━━━━━━━━━\u001b[0m \u001b[32m300.0/300.0 kB\u001b[0m \u001b[31m39.8 MB/s\u001b[0m eta \u001b[36m0:00:00\u001b[0m\n",
      "\u001b[?25hCollecting cycler>=0.10\n",
      "  Downloading cycler-0.11.0-py3-none-any.whl (6.4 kB)\n",
      "Collecting fonttools>=4.22.0\n",
      "  Downloading fonttools-4.39.3-py3-none-any.whl (1.0 MB)\n",
      "\u001b[2K     \u001b[90m━━━━━━━━━━━━━━━━━━━━━━━━━━━━━━━━━━━━━━━━\u001b[0m \u001b[32m1.0/1.0 MB\u001b[0m \u001b[31m80.1 MB/s\u001b[0m eta \u001b[36m0:00:00\u001b[0m\n",
      "\u001b[?25hCollecting kiwisolver>=1.0.1\n",
      "  Downloading kiwisolver-1.4.4-cp311-cp311-manylinux_2_17_x86_64.manylinux2014_x86_64.whl (1.4 MB)\n",
      "\u001b[2K     \u001b[90m━━━━━━━━━━━━━━━━━━━━━━━━━━━━━━━━━━━━━━━━\u001b[0m \u001b[32m1.4/1.4 MB\u001b[0m \u001b[31m88.9 MB/s\u001b[0m eta \u001b[36m0:00:00\u001b[0m\n",
      "\u001b[?25hCollecting pillow>=6.2.0\n",
      "  Downloading Pillow-9.5.0-cp311-cp311-manylinux_2_28_x86_64.whl (3.4 MB)\n",
      "\u001b[2K     \u001b[90m━━━━━━━━━━━━━━━━━━━━━━━━━━━━━━━━━━━━━━━━\u001b[0m \u001b[32m3.4/3.4 MB\u001b[0m \u001b[31m128.5 MB/s\u001b[0m eta \u001b[36m0:00:00\u001b[0m\n",
      "\u001b[?25hCollecting pyparsing>=2.3.1\n",
      "  Downloading pyparsing-3.0.9-py3-none-any.whl (98 kB)\n",
      "\u001b[2K     \u001b[90m━━━━━━━━━━━━━━━━━━━━━━━━━━━━━━━━━━━━━━━━\u001b[0m \u001b[32m98.3/98.3 kB\u001b[0m \u001b[31m27.7 MB/s\u001b[0m eta \u001b[36m0:00:00\u001b[0m\n",
      "\u001b[?25hCollecting Levenshtein==0.20.9\n",
      "  Downloading Levenshtein-0.20.9-cp311-cp311-manylinux_2_17_x86_64.manylinux2014_x86_64.whl (173 kB)\n",
      "\u001b[2K     \u001b[90m━━━━━━━━━━━━━━━━━━━━━━━━━━━━━━━━━━━━━━\u001b[0m \u001b[32m174.0/174.0 kB\u001b[0m \u001b[31m31.8 MB/s\u001b[0m eta \u001b[36m0:00:00\u001b[0m\n",
      "\u001b[?25hRequirement already satisfied: ipykernel>=4.5.1 in /home/studio-lab-user/.conda/envs/reproducibility/lib/python3.11/site-packages (from ipywidgets==7.5.0->-r requirements.txt (line 16)) (6.22.0)\n",
      "Requirement already satisfied: traitlets>=4.3.1 in /home/studio-lab-user/.conda/envs/reproducibility/lib/python3.11/site-packages (from ipywidgets==7.5.0->-r requirements.txt (line 16)) (5.9.0)\n",
      "Collecting nbformat>=4.2.0\n",
      "  Downloading nbformat-5.8.0-py3-none-any.whl (77 kB)\n",
      "\u001b[2K     \u001b[90m━━━━━━━━━━━━━━━━━━━━━━━━━━━━━━━━━━━━━━━━\u001b[0m \u001b[32m77.4/77.4 kB\u001b[0m \u001b[31m18.2 MB/s\u001b[0m eta \u001b[36m0:00:00\u001b[0m\n",
      "\u001b[?25hCollecting widgetsnbextension~=3.5.0\n",
      "  Downloading widgetsnbextension-3.5.2-py2.py3-none-any.whl (1.6 MB)\n",
      "\u001b[2K     \u001b[90m━━━━━━━━━━━━━━━━━━━━━━━━━━━━━━━━━━━━━━━━\u001b[0m \u001b[32m1.6/1.6 MB\u001b[0m \u001b[31m83.8 MB/s\u001b[0m eta \u001b[36m0:00:00\u001b[0m\n",
      "\u001b[?25hRequirement already satisfied: ipython>=4.0.0 in /home/studio-lab-user/.conda/envs/reproducibility/lib/python3.11/site-packages (from ipywidgets==7.5.0->-r requirements.txt (line 16)) (8.12.0)\n",
      "Collecting certifi\n",
      "  Using cached certifi-2022.12.7-py3-none-any.whl (155 kB)\n",
      "Collecting hstspreload\n",
      "  Using cached hstspreload-2023.1.1-py3-none-any.whl (1.5 MB)\n",
      "Collecting sniffio\n",
      "  Downloading sniffio-1.3.0-py3-none-any.whl (10 kB)\n",
      "Collecting chardet==3.*\n",
      "  Using cached chardet-3.0.4-py2.py3-none-any.whl (133 kB)\n",
      "Collecting idna==2.*\n",
      "  Using cached idna-2.10-py2.py3-none-any.whl (58 kB)\n",
      "Collecting rfc3986<2,>=1.3\n",
      "  Using cached rfc3986-1.5.0-py2.py3-none-any.whl (31 kB)\n",
      "Collecting httpcore==0.9.*\n",
      "  Using cached httpcore-0.9.1-py3-none-any.whl (42 kB)\n",
      "Collecting rapidfuzz<3.0.0,>=2.3.0\n",
      "  Downloading rapidfuzz-2.15.1-cp311-cp311-manylinux_2_17_x86_64.manylinux2014_x86_64.whl (3.0 MB)\n",
      "\u001b[2K     \u001b[90m━━━━━━━━━━━━━━━━━━━━━━━━━━━━━━━━━━━━━━━━\u001b[0m \u001b[32m3.0/3.0 MB\u001b[0m \u001b[31m113.6 MB/s\u001b[0m eta \u001b[36m0:00:00\u001b[0m\n",
      "\u001b[?25hCollecting h11<0.10,>=0.8\n",
      "  Using cached h11-0.9.0-py2.py3-none-any.whl (53 kB)\n",
      "Collecting h2==3.*\n",
      "  Using cached h2-3.2.0-py2.py3-none-any.whl (65 kB)\n",
      "Collecting hyperframe<6,>=5.2.0\n",
      "  Using cached hyperframe-5.2.0-py2.py3-none-any.whl (12 kB)\n",
      "Collecting hpack<4,>=3.0\n",
      "  Using cached hpack-3.0.0-py2.py3-none-any.whl (38 kB)\n",
      "Requirement already satisfied: six>=1.9.0 in /home/studio-lab-user/.conda/envs/reproducibility/lib/python3.11/site-packages (from bleach>=3.1.1->swifter==1.3.4->-r requirements.txt (line 10)) (1.16.0)\n",
      "Collecting webencodings\n",
      "  Downloading webencodings-0.5.1-py2.py3-none-any.whl (11 kB)\n",
      "Collecting fsspec>=0.6.0\n",
      "  Downloading fsspec-2023.4.0-py3-none-any.whl (153 kB)\n",
      "\u001b[2K     \u001b[90m━━━━━━━━━━━━━━━━━━━━━━━━━━━━━━━━━━━━━━\u001b[0m \u001b[32m154.0/154.0 kB\u001b[0m \u001b[31m31.2 MB/s\u001b[0m eta \u001b[36m0:00:00\u001b[0m\n",
      "\u001b[?25hCollecting partd>=1.2.0\n",
      "  Downloading partd-1.4.0-py3-none-any.whl (18 kB)\n",
      "Collecting toolz>=0.8.2\n",
      "  Using cached toolz-0.12.0-py3-none-any.whl (55 kB)\n",
      "Requirement already satisfied: importlib-metadata>=4.13.0 in /home/studio-lab-user/.conda/envs/reproducibility/lib/python3.11/site-packages (from dask[dataframe]>=2.10.0->swifter==1.3.4->-r requirements.txt (line 10)) (6.3.0)\n",
      "Requirement already satisfied: typing-extensions>=3.7.4.3 in /home/studio-lab-user/.conda/envs/reproducibility/lib/python3.11/site-packages (from huggingface-hub>=0.4.0->sentence-transformers==2.2.2->-r requirements.txt (line 7)) (4.5.0)\n",
      "Requirement already satisfied: comm>=0.1.1 in /home/studio-lab-user/.conda/envs/reproducibility/lib/python3.11/site-packages (from ipykernel>=4.5.1->ipywidgets==7.5.0->-r requirements.txt (line 16)) (0.1.3)\n",
      "Requirement already satisfied: debugpy>=1.6.5 in /home/studio-lab-user/.conda/envs/reproducibility/lib/python3.11/site-packages (from ipykernel>=4.5.1->ipywidgets==7.5.0->-r requirements.txt (line 16)) (1.6.7)\n",
      "Requirement already satisfied: jupyter-client>=6.1.12 in /home/studio-lab-user/.conda/envs/reproducibility/lib/python3.11/site-packages (from ipykernel>=4.5.1->ipywidgets==7.5.0->-r requirements.txt (line 16)) (8.2.0)\n",
      "Requirement already satisfied: jupyter-core!=5.0.*,>=4.12 in /home/studio-lab-user/.conda/envs/reproducibility/lib/python3.11/site-packages (from ipykernel>=4.5.1->ipywidgets==7.5.0->-r requirements.txt (line 16)) (5.3.0)\n",
      "Requirement already satisfied: matplotlib-inline>=0.1 in /home/studio-lab-user/.conda/envs/reproducibility/lib/python3.11/site-packages (from ipykernel>=4.5.1->ipywidgets==7.5.0->-r requirements.txt (line 16)) (0.1.6)\n",
      "Requirement already satisfied: nest-asyncio in /home/studio-lab-user/.conda/envs/reproducibility/lib/python3.11/site-packages (from ipykernel>=4.5.1->ipywidgets==7.5.0->-r requirements.txt (line 16)) (1.5.6)\n",
      "Requirement already satisfied: pyzmq>=20 in /home/studio-lab-user/.conda/envs/reproducibility/lib/python3.11/site-packages (from ipykernel>=4.5.1->ipywidgets==7.5.0->-r requirements.txt (line 16)) (25.0.2)\n",
      "Requirement already satisfied: tornado>=6.1 in /home/studio-lab-user/.conda/envs/reproducibility/lib/python3.11/site-packages (from ipykernel>=4.5.1->ipywidgets==7.5.0->-r requirements.txt (line 16)) (6.2)\n",
      "Requirement already satisfied: backcall in /home/studio-lab-user/.conda/envs/reproducibility/lib/python3.11/site-packages (from ipython>=4.0.0->ipywidgets==7.5.0->-r requirements.txt (line 16)) (0.2.0)\n",
      "Requirement already satisfied: decorator in /home/studio-lab-user/.conda/envs/reproducibility/lib/python3.11/site-packages (from ipython>=4.0.0->ipywidgets==7.5.0->-r requirements.txt (line 16)) (5.1.1)\n",
      "Requirement already satisfied: jedi>=0.16 in /home/studio-lab-user/.conda/envs/reproducibility/lib/python3.11/site-packages (from ipython>=4.0.0->ipywidgets==7.5.0->-r requirements.txt (line 16)) (0.18.2)\n",
      "Requirement already satisfied: pickleshare in /home/studio-lab-user/.conda/envs/reproducibility/lib/python3.11/site-packages (from ipython>=4.0.0->ipywidgets==7.5.0->-r requirements.txt (line 16)) (0.7.5)\n",
      "Requirement already satisfied: prompt-toolkit!=3.0.37,<3.1.0,>=3.0.30 in /home/studio-lab-user/.conda/envs/reproducibility/lib/python3.11/site-packages (from ipython>=4.0.0->ipywidgets==7.5.0->-r requirements.txt (line 16)) (3.0.38)\n",
      "Requirement already satisfied: pygments>=2.4.0 in /home/studio-lab-user/.conda/envs/reproducibility/lib/python3.11/site-packages (from ipython>=4.0.0->ipywidgets==7.5.0->-r requirements.txt (line 16)) (2.15.0)\n",
      "Requirement already satisfied: stack-data in /home/studio-lab-user/.conda/envs/reproducibility/lib/python3.11/site-packages (from ipython>=4.0.0->ipywidgets==7.5.0->-r requirements.txt (line 16)) (0.6.2)\n",
      "Requirement already satisfied: pexpect>4.3 in /home/studio-lab-user/.conda/envs/reproducibility/lib/python3.11/site-packages (from ipython>=4.0.0->ipywidgets==7.5.0->-r requirements.txt (line 16)) (4.8.0)\n",
      "Collecting fastjsonschema\n",
      "  Downloading fastjsonschema-2.16.3-py3-none-any.whl (23 kB)\n",
      "Collecting jsonschema>=2.6\n",
      "  Downloading jsonschema-4.17.3-py3-none-any.whl (90 kB)\n",
      "\u001b[2K     \u001b[90m━━━━━━━━━━━━━━━━━━━━━━━━━━━━━━━━━━━━━━━━\u001b[0m \u001b[32m90.4/90.4 kB\u001b[0m \u001b[31m21.5 MB/s\u001b[0m eta \u001b[36m0:00:00\u001b[0m\n",
      "\u001b[?25hCollecting sympy\n",
      "  Downloading sympy-1.11.1-py3-none-any.whl (6.5 MB)\n",
      "\u001b[2K     \u001b[90m━━━━━━━━━━━━━━━━━━━━━━━━━━━━━━━━━━━━━━━━\u001b[0m \u001b[32m6.5/6.5 MB\u001b[0m \u001b[31m91.9 MB/s\u001b[0m eta \u001b[36m0:00:00\u001b[0m:00:01\u001b[0m00:01\u001b[0m\n",
      "\u001b[?25hCollecting networkx\n",
      "  Downloading networkx-3.1-py3-none-any.whl (2.1 MB)\n",
      "\u001b[2K     \u001b[90m━━━━━━━━━━━━━━━━━━━━━━━━━━━━━━━━━━━━━━━━\u001b[0m \u001b[32m2.1/2.1 MB\u001b[0m \u001b[31m125.3 MB/s\u001b[0m eta \u001b[36m0:00:00\u001b[0m\n",
      "\u001b[?25hCollecting jinja2\n",
      "  Downloading Jinja2-3.1.2-py3-none-any.whl (133 kB)\n",
      "\u001b[2K     \u001b[90m━━━━━━━━━━━━━━━━━━━━━━━━━━━━━━━━━━━━━━\u001b[0m \u001b[32m133.1/133.1 kB\u001b[0m \u001b[31m30.6 MB/s\u001b[0m eta \u001b[36m0:00:00\u001b[0m\n",
      "\u001b[?25hCollecting nvidia-cuda-nvrtc-cu11==11.7.99\n",
      "  Using cached nvidia_cuda_nvrtc_cu11-11.7.99-2-py3-none-manylinux1_x86_64.whl (21.0 MB)\n",
      "Collecting nvidia-cuda-runtime-cu11==11.7.99\n",
      "  Using cached nvidia_cuda_runtime_cu11-11.7.99-py3-none-manylinux1_x86_64.whl (849 kB)\n",
      "Collecting nvidia-cuda-cupti-cu11==11.7.101\n",
      "  Downloading nvidia_cuda_cupti_cu11-11.7.101-py3-none-manylinux1_x86_64.whl (11.8 MB)\n",
      "\u001b[2K     \u001b[90m━━━━━━━━━━━━━━━━━━━━━━━━━━━━━━━━━━━━━━━\u001b[0m \u001b[32m11.8/11.8 MB\u001b[0m \u001b[31m121.4 MB/s\u001b[0m eta \u001b[36m0:00:00\u001b[0m00:01\u001b[0m00:01\u001b[0m\n",
      "\u001b[?25hCollecting nvidia-cudnn-cu11==8.5.0.96\n",
      "  Using cached nvidia_cudnn_cu11-8.5.0.96-2-py3-none-manylinux1_x86_64.whl (557.1 MB)\n",
      "Collecting nvidia-cublas-cu11==11.10.3.66\n",
      "  Using cached nvidia_cublas_cu11-11.10.3.66-py3-none-manylinux1_x86_64.whl (317.1 MB)\n",
      "Collecting nvidia-cufft-cu11==10.9.0.58\n",
      "  Downloading nvidia_cufft_cu11-10.9.0.58-py3-none-manylinux1_x86_64.whl (168.4 MB)\n",
      "\u001b[2K     \u001b[90m━━━━━━━━━━━━━━━━━━━━━━━━━━━━━━━━━━━━━━\u001b[0m \u001b[32m168.4/168.4 MB\u001b[0m \u001b[31m14.0 MB/s\u001b[0m eta \u001b[36m0:00:00\u001b[0m00:01\u001b[0m00:01\u001b[0m\n",
      "\u001b[?25hCollecting nvidia-curand-cu11==10.2.10.91\n",
      "  Downloading nvidia_curand_cu11-10.2.10.91-py3-none-manylinux1_x86_64.whl (54.6 MB)\n",
      "\u001b[2K     \u001b[90m━━━━━━━━━━━━━━━━━━━━━━━━━━━━━━━━━━━━━━━━\u001b[0m \u001b[32m54.6/54.6 MB\u001b[0m \u001b[31m39.0 MB/s\u001b[0m eta \u001b[36m0:00:00\u001b[0m00:01\u001b[0m00:01\u001b[0m\n",
      "\u001b[?25hCollecting nvidia-cusolver-cu11==11.4.0.1\n",
      "  Downloading nvidia_cusolver_cu11-11.4.0.1-2-py3-none-manylinux1_x86_64.whl (102.6 MB)\n",
      "\u001b[2K     \u001b[90m━━━━━━━━━━━━━━━━━━━━━━━━━━━━━━━━━━━━━━\u001b[0m \u001b[32m102.6/102.6 MB\u001b[0m \u001b[31m23.3 MB/s\u001b[0m eta \u001b[36m0:00:00\u001b[0m00:01\u001b[0m00:01\u001b[0m\n",
      "\u001b[?25hCollecting nvidia-cusparse-cu11==11.7.4.91\n",
      "  Downloading nvidia_cusparse_cu11-11.7.4.91-py3-none-manylinux1_x86_64.whl (173.2 MB)\n",
      "\u001b[2K     \u001b[90m━━━━━━━━━━━━━━━━━━━━━━━━━━━━━━━━━━━━━━\u001b[0m \u001b[32m173.2/173.2 MB\u001b[0m \u001b[31m15.4 MB/s\u001b[0m eta \u001b[36m0:00:00\u001b[0m00:01\u001b[0m00:01\u001b[0m\n",
      "\u001b[?25hCollecting nvidia-nccl-cu11==2.14.3\n",
      "  Downloading nvidia_nccl_cu11-2.14.3-py3-none-manylinux1_x86_64.whl (177.1 MB)\n",
      "\u001b[2K     \u001b[90m━━━━━━━━━━━━━━━━━━━━━━━━━━━━━━━━━━━━━━\u001b[0m \u001b[32m177.1/177.1 MB\u001b[0m \u001b[31m12.4 MB/s\u001b[0m eta \u001b[36m0:00:00\u001b[0m00:01\u001b[0m00:01\u001b[0m\n",
      "\u001b[?25hCollecting nvidia-nvtx-cu11==11.7.91\n",
      "  Downloading nvidia_nvtx_cu11-11.7.91-py3-none-manylinux1_x86_64.whl (98 kB)\n",
      "\u001b[2K     \u001b[90m━━━━━━━━━━━━━━━━━━━━━━━━━━━━━━━━━━━━━━━━\u001b[0m \u001b[32m98.6/98.6 kB\u001b[0m \u001b[31m29.7 MB/s\u001b[0m eta \u001b[36m0:00:00\u001b[0m\n",
      "\u001b[?25hCollecting triton==2.0.0\n",
      "  Downloading triton-2.0.0-1-cp311-cp311-manylinux2014_x86_64.manylinux_2_17_x86_64.whl (63.3 MB)\n",
      "\u001b[2K     \u001b[90m━━━━━━━━━━━━━━━━━━━━━━━━━━━━━━━━━━━━━━━━\u001b[0m \u001b[32m63.3/63.3 MB\u001b[0m \u001b[31m30.2 MB/s\u001b[0m eta \u001b[36m0:00:00\u001b[0m00:01\u001b[0m00:01\u001b[0m\n",
      "\u001b[?25hRequirement already satisfied: setuptools in /home/studio-lab-user/.conda/envs/reproducibility/lib/python3.11/site-packages (from nvidia-cublas-cu11==11.10.3.66->torch>=1.6.0->sentence-transformers==2.2.2->-r requirements.txt (line 7)) (67.6.1)\n",
      "Requirement already satisfied: wheel in /home/studio-lab-user/.conda/envs/reproducibility/lib/python3.11/site-packages (from nvidia-cublas-cu11==11.10.3.66->torch>=1.6.0->sentence-transformers==2.2.2->-r requirements.txt (line 7)) (0.40.0)\n",
      "Collecting cmake\n",
      "  Downloading cmake-3.26.3-py2.py3-none-manylinux2014_x86_64.manylinux_2_17_x86_64.whl (24.0 MB)\n",
      "\u001b[2K     \u001b[90m━━━━━━━━━━━━━━━━━━━━━━━━━━━━━━━━━━━━━━━━\u001b[0m \u001b[32m24.0/24.0 MB\u001b[0m \u001b[31m69.4 MB/s\u001b[0m eta \u001b[36m0:00:00\u001b[0m00:01\u001b[0m00:01\u001b[0m\n",
      "\u001b[?25hCollecting lit\n",
      "  Downloading lit-16.0.1.tar.gz (137 kB)\n",
      "\u001b[2K     \u001b[90m━━━━━━━━━━━━━━━━━━━━━━━━━━━━━━━━━━━━━━\u001b[0m \u001b[32m137.9/137.9 kB\u001b[0m \u001b[31m33.8 MB/s\u001b[0m eta \u001b[36m0:00:00\u001b[0m\n",
      "\u001b[?25h  Preparing metadata (setup.py) ... \u001b[?25ldone\n",
      "\u001b[?25hCollecting notebook>=4.4.1\n",
      "  Downloading notebook-6.5.4-py3-none-any.whl (529 kB)\n",
      "\u001b[2K     \u001b[90m━━━━━━━━━━━━━━━━━━━━━━━━━━━━━━━━━━━━━━\u001b[0m \u001b[32m529.8/529.8 kB\u001b[0m \u001b[31m79.9 MB/s\u001b[0m eta \u001b[36m0:00:00\u001b[0m\n",
      "\u001b[?25hCollecting charset-normalizer<4,>=2\n",
      "  Downloading charset_normalizer-3.1.0-cp311-cp311-manylinux_2_17_x86_64.manylinux2014_x86_64.whl (197 kB)\n",
      "\u001b[2K     \u001b[90m━━━━━━━━━━━━━━━━━━━━━━━━━━━━━━━━━━━━━━\u001b[0m \u001b[32m197.3/197.3 kB\u001b[0m \u001b[31m45.1 MB/s\u001b[0m eta \u001b[36m0:00:00\u001b[0m\n",
      "\u001b[?25hCollecting urllib3<1.27,>=1.21.1\n",
      "  Downloading urllib3-1.26.15-py2.py3-none-any.whl (140 kB)\n",
      "\u001b[2K     \u001b[90m━━━━━━━━━━━━━━━━━━━━━━━━━━━━━━━━━━━━━━\u001b[0m \u001b[32m140.9/140.9 kB\u001b[0m \u001b[31m29.1 MB/s\u001b[0m eta \u001b[36m0:00:00\u001b[0m\n",
      "\u001b[?25hCollecting threadpoolctl>=2.0.0\n",
      "  Using cached threadpoolctl-3.1.0-py3-none-any.whl (14 kB)\n",
      "Requirement already satisfied: zipp>=0.5 in /home/studio-lab-user/.conda/envs/reproducibility/lib/python3.11/site-packages (from importlib-metadata>=4.13.0->dask[dataframe]>=2.10.0->swifter==1.3.4->-r requirements.txt (line 10)) (3.15.0)\n",
      "Collecting attrs>=17.4.0\n",
      "  Downloading attrs-22.2.0-py3-none-any.whl (60 kB)\n",
      "\u001b[2K     \u001b[90m━━━━━━━━━━━━━━━━━━━━━━━━━━━━━━━━━━━━━━━━\u001b[0m \u001b[32m60.0/60.0 kB\u001b[0m \u001b[31m18.2 MB/s\u001b[0m eta \u001b[36m0:00:00\u001b[0m\n",
      "\u001b[?25hCollecting pyrsistent!=0.17.0,!=0.17.1,!=0.17.2,>=0.14.0\n",
      "  Downloading pyrsistent-0.19.3-py3-none-any.whl (57 kB)\n",
      "\u001b[2K     \u001b[90m━━━━━━━━━━━━━━━━━━━━━━━━━━━━━━━━━━━━━━━━\u001b[0m \u001b[32m57.5/57.5 kB\u001b[0m \u001b[31m18.5 MB/s\u001b[0m eta \u001b[36m0:00:00\u001b[0m\n",
      "\u001b[?25hRequirement already satisfied: platformdirs>=2.5 in /home/studio-lab-user/.conda/envs/reproducibility/lib/python3.11/site-packages (from jupyter-core!=5.0.*,>=4.12->ipykernel>=4.5.1->ipywidgets==7.5.0->-r requirements.txt (line 16)) (3.2.0)\n",
      "Collecting argon2-cffi\n",
      "  Downloading argon2_cffi-21.3.0-py3-none-any.whl (14 kB)\n",
      "Collecting ipython-genutils\n",
      "  Downloading ipython_genutils-0.2.0-py2.py3-none-any.whl (26 kB)\n",
      "Collecting nbconvert>=5\n",
      "  Downloading nbconvert-7.3.1-py3-none-any.whl (284 kB)\n",
      "\u001b[2K     \u001b[90m━━━━━━━━━━━━━━━━━━━━━━━━━━━━━━━━━━━━━━\u001b[0m \u001b[32m284.1/284.1 kB\u001b[0m \u001b[31m36.5 MB/s\u001b[0m eta \u001b[36m0:00:00\u001b[0m\n",
      "\u001b[?25hCollecting Send2Trash>=1.8.0\n",
      "  Downloading Send2Trash-1.8.0-py3-none-any.whl (18 kB)\n",
      "Collecting terminado>=0.8.3\n",
      "  Downloading terminado-0.17.1-py3-none-any.whl (17 kB)\n",
      "Collecting prometheus-client\n",
      "  Downloading prometheus_client-0.16.0-py3-none-any.whl (122 kB)\n",
      "\u001b[2K     \u001b[90m━━━━━━━━━━━━━━━━━━━━━━━━━━━━━━━━━━━━━━\u001b[0m \u001b[32m122.5/122.5 kB\u001b[0m \u001b[31m29.4 MB/s\u001b[0m eta \u001b[36m0:00:00\u001b[0m\n",
      "\u001b[?25hCollecting nbclassic>=0.4.7\n",
      "  Downloading nbclassic-0.5.5-py3-none-any.whl (10.0 MB)\n",
      "\u001b[2K     \u001b[90m━━━━━━━━━━━━━━━━━━━━━━━━━━━━━━━━━━━━━━━\u001b[0m \u001b[32m10.0/10.0 MB\u001b[0m \u001b[31m126.1 MB/s\u001b[0m eta \u001b[36m0:00:00\u001b[0m00:01\u001b[0m00:01\u001b[0m\n",
      "\u001b[?25hCollecting locket\n",
      "  Downloading locket-1.0.0-py2.py3-none-any.whl (4.4 kB)\n",
      "Requirement already satisfied: ptyprocess>=0.5 in /home/studio-lab-user/.conda/envs/reproducibility/lib/python3.11/site-packages (from pexpect>4.3->ipython>=4.0.0->ipywidgets==7.5.0->-r requirements.txt (line 16)) (0.7.0)\n",
      "Requirement already satisfied: wcwidth in /home/studio-lab-user/.conda/envs/reproducibility/lib/python3.11/site-packages (from prompt-toolkit!=3.0.37,<3.1.0,>=3.0.30->ipython>=4.0.0->ipywidgets==7.5.0->-r requirements.txt (line 16)) (0.2.6)\n",
      "Collecting MarkupSafe>=2.0\n",
      "  Downloading MarkupSafe-2.1.2-cp311-cp311-manylinux_2_17_x86_64.manylinux2014_x86_64.whl (27 kB)\n",
      "Requirement already satisfied: executing>=1.2.0 in /home/studio-lab-user/.conda/envs/reproducibility/lib/python3.11/site-packages (from stack-data->ipython>=4.0.0->ipywidgets==7.5.0->-r requirements.txt (line 16)) (1.2.0)\n",
      "Requirement already satisfied: asttokens>=2.1.0 in /home/studio-lab-user/.conda/envs/reproducibility/lib/python3.11/site-packages (from stack-data->ipython>=4.0.0->ipywidgets==7.5.0->-r requirements.txt (line 16)) (2.2.1)\n",
      "Requirement already satisfied: pure-eval in /home/studio-lab-user/.conda/envs/reproducibility/lib/python3.11/site-packages (from stack-data->ipython>=4.0.0->ipywidgets==7.5.0->-r requirements.txt (line 16)) (0.2.2)\n",
      "Collecting mpmath>=0.19\n",
      "  Downloading mpmath-1.3.0-py3-none-any.whl (536 kB)\n",
      "\u001b[2K     \u001b[90m━━━━━━━━━━━━━━━━━━━━━━━━━━━━━━━━━━━━━━\u001b[0m \u001b[32m536.2/536.2 kB\u001b[0m \u001b[31m70.1 MB/s\u001b[0m eta \u001b[36m0:00:00\u001b[0m\n",
      "\u001b[?25hCollecting jupyter-server>=1.8\n",
      "  Downloading jupyter_server-2.5.0-py3-none-any.whl (366 kB)\n",
      "\u001b[2K     \u001b[90m━━━━━━━━━━━━━━━━━━━━━━━━━━━━━━━━━━━━━━\u001b[0m \u001b[32m366.8/366.8 kB\u001b[0m \u001b[31m37.6 MB/s\u001b[0m eta \u001b[36m0:00:00\u001b[0m\n",
      "\u001b[?25hCollecting notebook-shim>=0.1.0\n",
      "  Downloading notebook_shim-0.2.2-py3-none-any.whl (13 kB)\n",
      "Collecting beautifulsoup4\n",
      "  Downloading beautifulsoup4-4.12.2-py3-none-any.whl (142 kB)\n",
      "\u001b[2K     \u001b[90m━━━━━━━━━━━━━━━━━━━━━━━━━━━━━━━━━━━━━━\u001b[0m \u001b[32m143.0/143.0 kB\u001b[0m \u001b[31m35.8 MB/s\u001b[0m eta \u001b[36m0:00:00\u001b[0m\n",
      "\u001b[?25hCollecting defusedxml\n",
      "  Downloading defusedxml-0.7.1-py2.py3-none-any.whl (25 kB)\n",
      "Collecting jupyterlab-pygments\n",
      "  Downloading jupyterlab_pygments-0.2.2-py2.py3-none-any.whl (21 kB)\n",
      "Collecting mistune<3,>=2.0.3\n",
      "  Downloading mistune-2.0.5-py2.py3-none-any.whl (24 kB)\n",
      "Collecting nbclient>=0.5.0\n",
      "  Downloading nbclient-0.7.3-py3-none-any.whl (72 kB)\n",
      "\u001b[2K     \u001b[90m━━━━━━━━━━━━━━━━━━━━━━━━━━━━━━━━━━━━━━━━\u001b[0m \u001b[32m72.4/72.4 kB\u001b[0m \u001b[31m23.8 MB/s\u001b[0m eta \u001b[36m0:00:00\u001b[0m\n",
      "\u001b[?25hCollecting pandocfilters>=1.4.1\n",
      "  Downloading pandocfilters-1.5.0-py2.py3-none-any.whl (8.7 kB)\n",
      "Collecting tinycss2\n",
      "  Downloading tinycss2-1.2.1-py3-none-any.whl (21 kB)\n",
      "Collecting argon2-cffi-bindings\n",
      "  Downloading argon2_cffi_bindings-21.2.0-cp36-abi3-manylinux_2_17_x86_64.manylinux2014_x86_64.whl (86 kB)\n",
      "\u001b[2K     \u001b[90m━━━━━━━━━━━━━━━━━━━━━━━━━━━━━━━━━━━━━━━━\u001b[0m \u001b[32m86.2/86.2 kB\u001b[0m \u001b[31m24.3 MB/s\u001b[0m eta \u001b[36m0:00:00\u001b[0m\n",
      "\u001b[?25hCollecting anyio>=3.1.0\n",
      "  Downloading anyio-3.6.2-py3-none-any.whl (80 kB)\n",
      "\u001b[2K     \u001b[90m━━━━━━━━━━━━━━━━━━━━━━━━━━━━━━━━━━━━━━━━\u001b[0m \u001b[32m80.6/80.6 kB\u001b[0m \u001b[31m21.8 MB/s\u001b[0m eta \u001b[36m0:00:00\u001b[0m\n",
      "\u001b[?25hCollecting jupyter-events>=0.4.0\n",
      "  Downloading jupyter_events-0.6.3-py3-none-any.whl (18 kB)\n",
      "Collecting jupyter-server-terminals\n",
      "  Downloading jupyter_server_terminals-0.4.4-py3-none-any.whl (13 kB)\n",
      "Collecting websocket-client\n",
      "  Downloading websocket_client-1.5.1-py3-none-any.whl (55 kB)\n",
      "\u001b[2K     \u001b[90m━━━━━━━━━━━━━━━━━━━━━━━━━━━━━━━━━━━━━━━━\u001b[0m \u001b[32m55.9/55.9 kB\u001b[0m \u001b[31m11.9 MB/s\u001b[0m eta \u001b[36m0:00:00\u001b[0m\n",
      "\u001b[?25hCollecting cffi>=1.0.1\n",
      "  Downloading cffi-1.15.1-cp311-cp311-manylinux_2_17_x86_64.manylinux2014_x86_64.whl (462 kB)\n",
      "\u001b[2K     \u001b[90m━━━━━━━━━━━━━━━━━━━━━━━━━━━━━━━━━━━━━━\u001b[0m \u001b[32m462.6/462.6 kB\u001b[0m \u001b[31m63.1 MB/s\u001b[0m eta \u001b[36m0:00:00\u001b[0m\n",
      "\u001b[?25hCollecting soupsieve>1.2\n",
      "  Downloading soupsieve-2.4-py3-none-any.whl (37 kB)\n",
      "Collecting pycparser\n",
      "  Downloading pycparser-2.21-py2.py3-none-any.whl (118 kB)\n",
      "\u001b[2K     \u001b[90m━━━━━━━━━━━━━━━━━━━━━━━━━━━━━━━━━━━━━━\u001b[0m \u001b[32m118.7/118.7 kB\u001b[0m \u001b[31m28.4 MB/s\u001b[0m eta \u001b[36m0:00:00\u001b[0m\n",
      "\u001b[?25hCollecting python-json-logger>=2.0.4\n",
      "  Downloading python_json_logger-2.0.7-py3-none-any.whl (8.1 kB)\n",
      "Collecting rfc3339-validator\n",
      "  Downloading rfc3339_validator-0.1.4-py2.py3-none-any.whl (3.5 kB)\n",
      "Collecting rfc3986-validator>=0.1.1\n",
      "  Downloading rfc3986_validator-0.1.1-py2.py3-none-any.whl (4.2 kB)\n",
      "Collecting fqdn\n",
      "  Downloading fqdn-1.5.1-py3-none-any.whl (9.1 kB)\n",
      "Collecting isoduration\n",
      "  Downloading isoduration-20.11.0-py3-none-any.whl (11 kB)\n",
      "Collecting jsonpointer>1.13\n",
      "  Downloading jsonpointer-2.3-py2.py3-none-any.whl (7.8 kB)\n",
      "Collecting uri-template\n",
      "  Downloading uri_template-1.2.0-py3-none-any.whl (10 kB)\n",
      "Collecting webcolors>=1.11\n",
      "  Downloading webcolors-1.13-py3-none-any.whl (14 kB)\n",
      "Collecting arrow>=0.15.0\n",
      "  Downloading arrow-1.2.3-py3-none-any.whl (66 kB)\n",
      "\u001b[2K     \u001b[90m━━━━━━━━━━━━━━━━━━━━━━━━━━━━━━━━━━━━━━━━\u001b[0m \u001b[32m66.4/66.4 kB\u001b[0m \u001b[31m8.7 MB/s\u001b[0m eta \u001b[36m0:00:00\u001b[0m\n",
      "\u001b[?25hBuilding wheels for collected packages: googletrans, sentence-transformers, swifter, lit\n",
      "  Building wheel for googletrans (setup.py) ... \u001b[?25ldone\n",
      "\u001b[?25h  Created wheel for googletrans: filename=googletrans-3.1.0a0-py3-none-any.whl size=16352 sha256=8e4d171ab3b4f24705a760f9bd0cd55fce970765204e4f554b67b7c6604d73a9\n",
      "  Stored in directory: /home/studio-lab-user/.cache/pip/wheels/81/f2/e0/d578821d723b473d18610ea93810e4a5402463919f07e603d9\n",
      "  Building wheel for sentence-transformers (setup.py) ... \u001b[?25ldone\n",
      "\u001b[?25h  Created wheel for sentence-transformers: filename=sentence_transformers-2.2.2-py3-none-any.whl size=125926 sha256=ca77b4de328f7ec634eed767496ce399a86e2f42649492faac2b47f2d6fe8154\n",
      "  Stored in directory: /home/studio-lab-user/.cache/pip/wheels/ff/27/bf/ffba8b318b02d7f691a57084ee154e26ed24d012b0c7805881\n",
      "  Building wheel for swifter (setup.py) ... \u001b[?25ldone\n",
      "\u001b[?25h  Created wheel for swifter: filename=swifter-1.3.4-py3-none-any.whl size=16299 sha256=437e91d1741d437039318b630d401f06fb2f9b6a8555c48079902a4808e0fdd8\n",
      "  Stored in directory: /home/studio-lab-user/.cache/pip/wheels/73/ba/5d/d6a1f67829876f14c81a95818fa150411620f6d61db08feb10\n",
      "  Building wheel for lit (setup.py) ... \u001b[?25ldone\n",
      "\u001b[?25h  Created wheel for lit: filename=lit-16.0.1-py3-none-any.whl size=88172 sha256=04750e36309cf1af1b5ece68805ab43cd3a0d0efb598e8f71c7c16d04c58c07c\n",
      "  Stored in directory: /home/studio-lab-user/.cache/pip/wheels/94/72/cb/956aa67fc96c3cb83685b6faf45cbccffed352b26e9c7d7852\n",
      "Successfully built googletrans sentence-transformers swifter lit\n",
      "Installing collected packages: webencodings, tokenizers, sentencepiece, Send2Trash, rfc3986, pytz, mpmath, mistune, lit, ipython-genutils, hyperframe, hpack, h11, fuzzywuzzy, fastjsonschema, faiss-cpu, cmake, chardet, websocket-client, webcolors, urllib3, uri-template, tqdm, toolz, tinycss2, threadpoolctl, terminado, sympy, soupsieve, sniffio, rfc3986-validator, rfc3339-validator, regex, rapidfuzz, pyyaml, python-json-logger, pyrsistent, pyparsing, pycparser, prometheus-client, pillow, pandocfilters, nvidia-nvtx-cu11, nvidia-nccl-cu11, nvidia-cusparse-cu11, nvidia-curand-cu11, nvidia-cufft-cu11, nvidia-cuda-runtime-cu11, nvidia-cuda-nvrtc-cu11, nvidia-cuda-cupti-cu11, nvidia-cublas-cu11, numpy, networkx, memory-profiler, MarkupSafe, locket, kiwisolver, jupyterlab-pygments, jsonpointer, joblib, idna, hstspreload, h2, fsspec, fqdn, fonttools, filelock, defusedxml, cycler, cloudpickle, click, charset-normalizer, certifi, bleach, attrs, scipy, requests, pyarrow, partd, pandas, nvidia-cusolver-cu11, nvidia-cudnn-cu11, nltk, Levenshtein, jupyter-server-terminals, jsonschema, jinja2, httpcore, contourpy, cffi, beautifulsoup4, arrow, anyio, scikit-learn, python-Levenshtein, nbformat, matplotlib, isoduration, huggingface-hub, httpx, dask, argon2-cffi-bindings, transformers, nbclient, googletrans, argon2-cffi, nbconvert, jupyter-events, jupyter-server, notebook-shim, nbclassic, notebook, widgetsnbextension, ipywidgets, swifter, triton, torch, torchvision, sentence-transformers\n",
      "Successfully installed Levenshtein-0.20.9 MarkupSafe-2.1.2 Send2Trash-1.8.0 anyio-3.6.2 argon2-cffi-21.3.0 argon2-cffi-bindings-21.2.0 arrow-1.2.3 attrs-22.2.0 beautifulsoup4-4.12.2 bleach-6.0.0 certifi-2022.12.7 cffi-1.15.1 chardet-3.0.4 charset-normalizer-3.1.0 click-8.1.3 cloudpickle-2.2.1 cmake-3.26.3 contourpy-1.0.7 cycler-0.11.0 dask-2023.4.0 defusedxml-0.7.1 faiss-cpu-1.7.3 fastjsonschema-2.16.3 filelock-3.11.0 fonttools-4.39.3 fqdn-1.5.1 fsspec-2023.4.0 fuzzywuzzy-0.18.0 googletrans-3.1.0a0 h11-0.9.0 h2-3.2.0 hpack-3.0.0 hstspreload-2023.1.1 httpcore-0.9.1 httpx-0.13.3 huggingface-hub-0.13.4 hyperframe-5.2.0 idna-2.10 ipython-genutils-0.2.0 ipywidgets-7.5.0 isoduration-20.11.0 jinja2-3.1.2 joblib-1.2.0 jsonpointer-2.3 jsonschema-4.17.3 jupyter-events-0.6.3 jupyter-server-2.5.0 jupyter-server-terminals-0.4.4 jupyterlab-pygments-0.2.2 kiwisolver-1.4.4 lit-16.0.1 locket-1.0.0 matplotlib-3.7.1 memory-profiler-0.61.0 mistune-2.0.5 mpmath-1.3.0 nbclassic-0.5.5 nbclient-0.7.3 nbconvert-7.3.1 nbformat-5.8.0 networkx-3.1 nltk-3.8.1 notebook-6.5.4 notebook-shim-0.2.2 numpy-1.23.5 nvidia-cublas-cu11-11.10.3.66 nvidia-cuda-cupti-cu11-11.7.101 nvidia-cuda-nvrtc-cu11-11.7.99 nvidia-cuda-runtime-cu11-11.7.99 nvidia-cudnn-cu11-8.5.0.96 nvidia-cufft-cu11-10.9.0.58 nvidia-curand-cu11-10.2.10.91 nvidia-cusolver-cu11-11.4.0.1 nvidia-cusparse-cu11-11.7.4.91 nvidia-nccl-cu11-2.14.3 nvidia-nvtx-cu11-11.7.91 pandas-1.5.3 pandocfilters-1.5.0 partd-1.4.0 pillow-9.5.0 prometheus-client-0.16.0 pyarrow-10.0.1 pycparser-2.21 pyparsing-3.0.9 pyrsistent-0.19.3 python-Levenshtein-0.20.9 python-json-logger-2.0.7 pytz-2023.3 pyyaml-6.0 rapidfuzz-2.15.1 regex-2022.10.31 requests-2.28.2 rfc3339-validator-0.1.4 rfc3986-1.5.0 rfc3986-validator-0.1.1 scikit-learn-1.2.2 scipy-1.10.1 sentence-transformers-2.2.2 sentencepiece-0.1.98 sniffio-1.3.0 soupsieve-2.4 swifter-1.3.4 sympy-1.11.1 terminado-0.17.1 threadpoolctl-3.1.0 tinycss2-1.2.1 tokenizers-0.13.3 toolz-0.12.0 torch-2.0.0 torchvision-0.15.1 tqdm-4.65.0 transformers-4.25.1 triton-2.0.0 uri-template-1.2.0 urllib3-1.26.15 webcolors-1.13 webencodings-0.5.1 websocket-client-1.5.1 widgetsnbextension-3.5.2\n"
     ]
    }
   ],
   "source": [
    "!pip install -r requirements.txt"
   ]
  },
  {
   "cell_type": "markdown",
   "id": "5b792dd7",
   "metadata": {},
   "source": [
    "Great, now all dependencies are installed."
   ]
  },
  {
   "cell_type": "markdown",
   "id": "890b832e",
   "metadata": {},
   "source": [
    "Next, we need to create some folders to store all intermediate and output data:"
   ]
  },
  {
   "cell_type": "code",
   "execution_count": 4,
   "id": "06945fd0",
   "metadata": {},
   "outputs": [
    {
     "name": "stdout",
     "output_type": "stream",
     "text": [
      "\u001b[31mThe directory for the input data already exists at data/input_data.\u001b[0m\n",
      "\u001b[31mThe directory for the intermediate data already exists at data/intermediate_data.\u001b[0m\n",
      "\u001b[32mThe directory for the output data has been created successfully at data/output_data.\u001b[0m\n"
     ]
    }
   ],
   "source": [
    "from src.utilities.utility_functions_helpers import create_required_folders\n",
    "create_required_folders()"
   ]
  },
  {
   "cell_type": "markdown",
   "id": "c2d6703d-8542-4d11-9995-0cfea6a33842",
   "metadata": {},
   "source": [
    "Great, all necessary folders have been created!"
   ]
  },
  {
   "cell_type": "markdown",
   "id": "83ead694-16de-411b-8e66-cf675d077183",
   "metadata": {},
   "source": [
    "Execution time: <b>Less than 1 minute</b>"
   ]
  },
  {
   "cell_type": "markdown",
   "id": "24b28feb-2196-4153-8016-eaa4d29019f1",
   "metadata": {},
   "source": [
    "### 1. Find perfect matches"
   ]
  },
  {
   "cell_type": "markdown",
   "id": "43effaf2",
   "metadata": {},
   "source": [
    "In this first step, we are looking for all perfect duplicates in the dataset.<br>\n",
    "First, let's load the function to identify all <b>FULL</b> and (full) <b>TEMPORAL</b> duplicates:"
   ]
  },
  {
   "cell_type": "code",
   "execution_count": 5,
   "id": "5629a720",
   "metadata": {},
   "outputs": [],
   "source": [
    "from src.find_perfect_matches import find_perfect_duplicates"
   ]
  },
  {
   "cell_type": "code",
   "execution_count": 6,
   "id": "a032f03f",
   "metadata": {},
   "outputs": [
    {
     "name": "stdout",
     "output_type": "stream",
     "text": [
      "Input data path: data/input_data/wi_dataset.csv\n",
      "Reading in the input data...\n",
      "The file was read successfully!\n",
      "The raw data contain 112064 job advertisements in total.\n",
      "\n",
      "Performing operations...\n",
      "\n",
      "8 sketchy IDs were found.\n",
      "Dropping completely the rows with sketchy IDs (if any)...\n",
      "The data now contain 112056 job advertisements in total.\n",
      "0 missing values were found in the titles.\n",
      "30364 missing values were found in the company names.\n",
      "29 missing values were found in the descriptions.\n",
      "8 missing values were found in the retrieval dates.\n",
      "61471 missing values were found in the locations.\n",
      "8 missing values were found in the country ids.\n",
      "\n",
      "Turning the retrieval dates to integers...\n",
      "\n",
      "Replacing missing values (if any) with ''...\n",
      "\n",
      "Detecting FULL and (full) TEMPORAL duplicates in terms of retrieval date, title, and description...\n",
      "The following number of duplicate combinations were found:\n",
      "     type\n",
      "FULL         63371\n",
      "TEMPORAL    294106\n",
      "Name: id1, dtype: int64\n",
      "\n",
      "Saved at data/intermediate_data/full_duplicates.parquet.\n"
     ]
    }
   ],
   "source": [
    "find_perfect_duplicates()"
   ]
  },
  {
   "cell_type": "markdown",
   "id": "88ce7a0b-ceeb-4f3c-a7ab-3b1d55dbb0a4",
   "metadata": {},
   "source": [
    "Execution time: <b>Less than 1 minute</b>"
   ]
  },
  {
   "cell_type": "markdown",
   "id": "884b0777-b5de-4fe4-8328-02b29f49bdcc",
   "metadata": {},
   "source": [
    "### 2. Clean raw data"
   ]
  },
  {
   "cell_type": "markdown",
   "id": "1caf2dc3-014b-4d26-aa1d-356b7237fc8a",
   "metadata": {},
   "source": [
    "In this step, the text pre-processing takes place. We basically drop or modify non ASCII weird characters and punctuations, remove HTML tags etc. We also create some helper columns that will be used later.<br>\n",
    "Let's load the cleaning function:"
   ]
  },
  {
   "cell_type": "code",
   "execution_count": 10,
   "id": "1a391c90-5078-4e93-9266-778497006db8",
   "metadata": {},
   "outputs": [],
   "source": [
    "from src.clean_input_data_set import clean_input_dataset"
   ]
  },
  {
   "cell_type": "code",
   "execution_count": 11,
   "id": "1705c687",
   "metadata": {},
   "outputs": [
    {
     "name": "stdout",
     "output_type": "stream",
     "text": [
      "Input data path: data/input_data/wi_dataset.csv\n",
      "Reading in the input data...\n",
      "The file was read successfully!\n",
      "The raw data contain 112064 job advertisements in total.\n",
      "After importing the raw data, the following columns were discovered:\n",
      "id                string\n",
      "title             string\n",
      "description       string\n",
      "location          string\n",
      "country_id        string\n",
      "company_name      string\n",
      "retrieval_date    string\n",
      "dtype: object\n",
      "\n",
      "Performing operations...\n",
      "\n",
      "8 sketchy IDs were found.\n",
      "Dropping completely the rows with sketchy IDs (if any)...\n",
      "The data now contain 112056 job advertisements in total.\n",
      "0 missing values were found in the titles.\n",
      "30364 missing values were found in the company names.\n",
      "29 missing values were found in the descriptions.\n",
      "8 missing values were found in the retrieval dates.\n",
      "61471 missing values were found in the locations.\n",
      "8 missing values were found in the country ids.\n",
      "\n",
      "Turning the retrieval dates to integers...\n",
      "\n",
      "Replacing missing values (if any) with ''...\n",
      "\n",
      "Starting cleaning for company names, titles, and descriptions...\n",
      "\n"
     ]
    },
    {
     "name": "stderr",
     "output_type": "stream",
     "text": [
      "Cleaning company names: 100%|██████████| 112056/112056 [00:01<00:00, 75131.07it/s]\n",
      "Cleaning titles: 100%|██████████| 112056/112056 [00:01<00:00, 58411.31it/s]\n",
      "Cleaning descriptions: 100%|██████████| 112056/112056 [01:11<00:00, 1559.95it/s]\n"
     ]
    },
    {
     "name": "stdout",
     "output_type": "stream",
     "text": [
      "\n",
      "There are 15899 unique company names.\n",
      "There are 15883 unique company names after cleaning them.\n",
      "There are 53192 unique titles.\n",
      "There are 53167 unique titles after cleaning them.\n",
      "There are 59022 unique descriptions.\n",
      "There are 58991 unique descriptions after cleaning them.\n",
      "Creating additional helper columns...\n",
      "\n",
      "Before saving intermediate result the following columns and data types are available:\n",
      "id                     Int64\n",
      "title                 string\n",
      "description           string\n",
      "location              string\n",
      "country_id            string\n",
      "company_name          string\n",
      "retrieval_date         Int64\n",
      "company_name_clean    string\n",
      "title_clean           string\n",
      "description_clean     string\n",
      "description_hash       Int64\n",
      "title_hash             Int64\n",
      "dtype: object\n",
      "\n",
      "Saved to data/intermediate_data/formatted_data.parquet.\n"
     ]
    }
   ],
   "source": [
    "clean_input_dataset()"
   ]
  },
  {
   "cell_type": "markdown",
   "id": "c425aca0-93ff-44b6-a31d-b3c5f650d211",
   "metadata": {},
   "source": [
    "Execution time: <b>Less than 2 minutes</b>"
   ]
  },
  {
   "cell_type": "markdown",
   "id": "9a95f50f",
   "metadata": {},
   "source": [
    "### 3. Prepare input for embedding (with optional translations)"
   ]
  },
  {
   "cell_type": "markdown",
   "id": "64eaa11f-0b4a-4bb6-a815-6fafd22e9cb8",
   "metadata": {},
   "source": [
    "In the next step, transations take place. Translating the dataset is an optional step but highly recommended. We also create a merged column of title and description that will be used later in the embedding process.<br>\n",
    "Let's load the function:"
   ]
  },
  {
   "cell_type": "code",
   "execution_count": 12,
   "id": "b5853d35-f400-4bef-b264-ff02984777f0",
   "metadata": {},
   "outputs": [],
   "source": [
    "from src.prepare_input_for_embedding import prepare_input_data_for_embedding"
   ]
  },
  {
   "cell_type": "markdown",
   "id": "d32d0a39-0035-406d-bac0-5ebf58a8a0f0",
   "metadata": {},
   "source": [
    "Now, we need to decide whether we want to proceed with translating the job advertisments and using an english model (<b>mpnet</b>) or not translating the job advertisments and using a multilingual model (<b>distiluse</b> or <b>minilm</b>)."
   ]
  },
  {
   "cell_type": "markdown",
   "id": "eeafac34",
   "metadata": {},
   "source": [
    "Method 1.<br>\n",
    "In case we decide to translate the text, the process will take ~8 additional hours. For that, the Google API translation is used.\n",
    "Moreover, the embedding model described above is applied on the combined translated title and description where we concatenate both columns but supply a weight to the title (since job titles are on average much shorter than job descriptions but relatively more important).\n",
    "\n",
    "<br>Method 2.<br>In case we decide to not translate the text, one of the two multilingual models has to be selected. Again, the embedding model is applied on the combined cleaned, original title and description."
   ]
  },
  {
   "cell_type": "markdown",
   "id": "17fa80c9-7dce-439e-bfe7-c35c73088ecd",
   "metadata": {},
   "source": [
    "#### Translations\n",
    "If you would like to translate the dataset and continue with Method 1, set the parameter <i>TRANSLATION</i> below to <i>True</i>.<br>\n",
    "If instead, you would like to not translate the dataset and continue with Method 2, set the parameter <i>TRANSLATION</i> below to <i>False</i>:"
   ]
  },
  {
   "cell_type": "code",
   "execution_count": 13,
   "id": "9d174fc9-d9fd-458f-bcc3-1978c87a3135",
   "metadata": {},
   "outputs": [],
   "source": [
    "TRANSLATION = True"
   ]
  },
  {
   "cell_type": "code",
   "execution_count": 14,
   "id": "cc5afd11-2e0a-4a93-a890-744aba7a8910",
   "metadata": {},
   "outputs": [
    {
     "name": "stdout",
     "output_type": "stream",
     "text": [
      "Formatted data path: data/intermediate_data/formatted_data.parquet\n",
      "Reading in the formatted data...\n",
      "The file was read successfully!\n",
      "\n",
      "Starting translations...\n",
      "\n"
     ]
    },
    {
     "name": "stderr",
     "output_type": "stream",
     "text": [
      "Translating descriptions: 100%|██████████| 58991/58991 [4:41:06<00:00,  3.50it/s]   \n",
      "/home/studio-lab-user/DeduplicationChallenge/src/prepare_input_for_embedding.py:61: SettingWithCopyWarning: \n",
      "A value is trying to be set on a copy of a slice from a DataFrame.\n",
      "Try using .loc[row_indexer,col_indexer] = value instead\n",
      "\n",
      "See the caveats in the documentation: https://pandas.pydata.org/pandas-docs/stable/user_guide/indexing.html#returning-a-view-versus-a-copy\n",
      "  df_desc[DataDimensions.DESCRIPTION_TRANSLATED] = df_desc[DataDimensions.DESCRIPTION_CLEAN].progress_apply(\n",
      "Translating titles: 100%|██████████| 53167/53167 [3:16:43<00:00,  4.50it/s]   \n",
      "/home/studio-lab-user/DeduplicationChallenge/src/prepare_input_for_embedding.py:66: SettingWithCopyWarning: \n",
      "A value is trying to be set on a copy of a slice from a DataFrame.\n",
      "Try using .loc[row_indexer,col_indexer] = value instead\n",
      "\n",
      "See the caveats in the documentation: https://pandas.pydata.org/pandas-docs/stable/user_guide/indexing.html#returning-a-view-versus-a-copy\n",
      "  df_title[DataDimensions.TITLE_TRANSLATED] = df_title[DataDimensions.TITLE_CLEAN].progress_apply(\n",
      "Creating new merged column (weighted title & description): 100%|██████████| 112056/112056 [00:01<00:00, 97381.81it/s] \n"
     ]
    },
    {
     "name": "stdout",
     "output_type": "stream",
     "text": [
      "\n",
      "Before saving translated result the following columns and data types are available:\n",
      "id                             Int64\n",
      "title                         string\n",
      "description                   string\n",
      "location                      string\n",
      "country_id                    string\n",
      "company_name                  string\n",
      "retrieval_date                 Int64\n",
      "company_name_clean            string\n",
      "title_clean                   string\n",
      "description_clean             string\n",
      "description_hash               Int64\n",
      "title_hash                     Int64\n",
      "description_translated        string\n",
      "title_translated              string\n",
      "title_and_description         string\n",
      "title_and_description_hash     Int64\n",
      "dtype: object\n",
      "\n",
      "Saved to data/intermediate_data/intermediate_data.parquet.\n"
     ]
    }
   ],
   "source": [
    "prepare_input_data_for_embedding(title_weight=0.3,\n",
    "                                 translation=TRANSLATION)"
   ]
  },
  {
   "cell_type": "markdown",
   "id": "9399a0f9-71db-4e91-b662-477d0ac802b7",
   "metadata": {},
   "source": [
    "Execution time with Method 1 (Translating): <b>Approximately 8 hours</b><br>\n",
    "Execution time with Method 2 (Not translating): <b>Less than 1 minute</b>"
   ]
  },
  {
   "cell_type": "markdown",
   "id": "dd993740-9ba4-4624-9a71-c2cfb5e58060",
   "metadata": {},
   "source": [
    "### 4. Use Transformer models to create overall embeddings"
   ]
  },
  {
   "cell_type": "markdown",
   "id": "696c032b-ceea-4c87-8d32-ad2524266134",
   "metadata": {},
   "source": [
    "Frist, we have to load the embedding model class:"
   ]
  },
  {
   "cell_type": "code",
   "execution_count": 1,
   "id": "a4f5f22a-b819-4176-bf4a-843bb84ab192",
   "metadata": {},
   "outputs": [],
   "source": [
    "from src.embedding_models import EmbeddingModel"
   ]
  },
  {
   "cell_type": "markdown",
   "id": "c993137f-1968-4d78-9a6d-8110a7da550b",
   "metadata": {},
   "source": [
    "#### Language models\n",
    "While we have them installed already, we need to download the data for the language model. For convenience it is stored in a class; upon initializing a model for the first time it will automatically be downlaoded to `data/models/`. Subsequent runs will simply load it from there (so it will not have to be downloaded again). We tested a range of different embedding models and finally settled on `mpnet` for the translated data, and `distiluse` or `minilm` for the non-translated data (multilingual models). A comprehensive review can be found [here](https://www.sbert.net/docs/pretrained_models.html). "
   ]
  },
  {
   "cell_type": "markdown",
   "id": "75361ab8-ba9f-4756-baeb-873754e33307",
   "metadata": {},
   "source": [
    "Now, we need to select the desired model, based on method we followed above:"
   ]
  },
  {
   "cell_type": "code",
   "execution_count": 3,
   "id": "330f6560-acf1-484a-9411-5398034efc51",
   "metadata": {},
   "outputs": [],
   "source": [
    "# In case we translated the dataset (Method 1), initialize/download english model:\n",
    "model = EmbeddingModel(model='mpnet', max_seq_length=384)\n",
    "\n",
    "# In case we did not translate the dataset (Method 2), initialize/download one of the two mutilingual models:\n",
    "# model = EmbeddingModel(model='distiluse', max_seq_length=512)\n",
    "# or\n",
    "# model = EmbeddingModel(model='minilm', max_seq_length=512)"
   ]
  },
  {
   "cell_type": "markdown",
   "id": "1d74caf9-7218-444f-8981-3b58e7ce0ff7",
   "metadata": {},
   "source": [
    "Great! Now, we need to import the functions for the prefiltering:"
   ]
  },
  {
   "cell_type": "code",
   "execution_count": 4,
   "id": "24d54b3a-801a-4b51-86c3-cbcb1c162188",
   "metadata": {},
   "outputs": [],
   "source": [
    "from src.pre_filtering_for_plausible_matches import pre_filtering_for_plausible_matches"
   ]
  },
  {
   "cell_type": "markdown",
   "id": "11989508",
   "metadata": {},
   "source": [
    "In order to reduce the complexity of the problem, we are using an embedding model to represent each title+description in a vector space in which we can perform a FAISS vector search to find the best `n_matches` for each job id. Finally we keep only those that have a `prefiltering_l2_threshold` of 0.25 or lower (i.e. where the euclidean distance between the embedding representation of two job descriptions+titles is less than 0.25):"
   ]
  },
  {
   "cell_type": "code",
   "execution_count": 5,
   "id": "92480b2a",
   "metadata": {},
   "outputs": [
    {
     "data": {
      "application/vnd.jupyter.widget-view+json": {
       "model_id": "f2196055614542c2be66ca5ee7ac2af8",
       "version_major": 2,
       "version_minor": 0
      },
      "text/plain": [
       "Batches:   0%|          | 0/1923 [00:00<?, ?it/s]"
      ]
     },
     "metadata": {},
     "output_type": "display_data"
    },
    {
     "name": "stdout",
     "output_type": "stream",
     "text": [
      "Embedding saved to data/intermediate_data/embedding_mpnet.pt.\n",
      "map_description_to_hash saved to data/intermediate_data/map_description_to_hash.parquet.\n",
      "Number of vectors in the Faiss index: 61527\n"
     ]
    },
    {
     "name": "stderr",
     "output_type": "stream",
     "text": [
      "faiss search for matches in mpnet embedding: 100%|██████████| 61527/61527 [18:32<00:00, 55.31it/s]\n",
      "Find semantic and temporal matches: 100%|██████████| 61527/61527 [00:00<00:00, 207441.76it/s]\n",
      "Assigning semantic and temporal matches: 100%|██████████| 112056/112056 [00:01<00:00, 60336.34it/s]\n",
      "Defining semantic and temporal matches column: 100%|██████████| 112056/112056 [00:01<00:00, 99344.56it/s]\n",
      "Assign semantic matches to columns: 100%|██████████| 112056/112056 [00:00<00:00, 188681.80it/s]\n",
      "Assign temporal matches to columns: 100%|██████████| 112056/112056 [00:00<00:00, 184725.65it/s]\n"
     ]
    }
   ],
   "source": [
    "pre_filtering_for_plausible_matches(\n",
    "    language_embedding_model=model,\n",
    "    n_matches=100,\n",
    "    pre_filtering_l2_threshold=0.25)"
   ]
  },
  {
   "cell_type": "markdown",
   "id": "78862f9c-c40e-4492-a2ae-69da1613f4bb",
   "metadata": {},
   "source": [
    "Execution time for overall embedding creation (a): <b>Approximately 18 minutes</b><br>\n",
    "Execution time for overall kNN search (b): <b>Approximately 18 minutes</b><br>\n",
    "Execution time for overall pre-filtered dataset reassembling (c): <b>Less than 1 minute<b/><br>\n",
    "    \n",
    "Execution time (total): <b>Approximately 37 minutes</b><br>"
   ]
  },
  {
   "cell_type": "markdown",
   "id": "331f8dac-195c-4a88-8142-ed7c0c949cd2",
   "metadata": {},
   "source": [
    "### 5. Apply expert rules"
   ]
  },
  {
   "cell_type": "markdown",
   "id": "2561008b-0bf6-4493-a7fe-acf24d7d9357",
   "metadata": {},
   "source": [
    "In this last step, we will identify all <b>TEMPORAL</b>, <b>SEMANTIC</b> and <b>PARTIAL</b> duplicates."
   ]
  },
  {
   "cell_type": "markdown",
   "id": "2e01990a-efd6-42ba-8169-026f6d4fee65",
   "metadata": {},
   "source": [
    "Let's load the necessary functions:"
   ]
  },
  {
   "cell_type": "code",
   "execution_count": 6,
   "id": "758d7a9a-bb47-4463-b732-00c183a455ff",
   "metadata": {},
   "outputs": [
    {
     "name": "stderr",
     "output_type": "stream",
     "text": [
      "[nltk_data] Downloading package stopwords to /home/studio-lab-\n",
      "[nltk_data]     user/nltk_data...\n",
      "[nltk_data]   Package stopwords is already up-to-date!\n"
     ]
    }
   ],
   "source": [
    "from src.embedding_process.apply_expert_rules import apply_expert_rules"
   ]
  },
  {
   "cell_type": "markdown",
   "id": "5c891009",
   "metadata": {},
   "source": [
    "The final step is to apply export rules on the pre selected matches. There are several parameters to be chosen: \n",
    " * **`language_embedding_model`**: previously selected model (keep the same)\n",
    " * **`description_similarities`**: keep it equal to False (not used)\n",
    " * **`partial_rule`**: Either `tag`, `fuzzy` or `string_ratio`:<br> \n",
    "If `tag` is chosen, we check if a group of word is present in one job descriptions but not in the other, e.g. 'bachelor', 'master', 'degree' to identify partials. Tag is the best method so far.<br>\n",
    "If `fuzzy` is chosen, we measure the fuzzy ratio between the two descriptions.<br>\n",
    "If `string_ratio` is chosen, we measure the string ratio difference between the two descriptions\n",
    " * **`temporal_title_similarity_unrestricted`**: lowest similarity two titles can have if the company is the same\n",
    " * **`temporal_title_similarity_restricted`**: lowest similarity two titles can have if the company is differnt or missing\n",
    " * **`temporal_l2_threshold`**: maximum l2 distance between two job advertisements if the company is different or missing"
   ]
  },
  {
   "cell_type": "markdown",
   "id": "a0fff178-f872-458f-99ac-9f8015dc578c",
   "metadata": {},
   "source": [
    "Before continuing, Use this method below to force the system to try to reclaim the maximum amount of available memory:"
   ]
  },
  {
   "cell_type": "code",
   "execution_count": 7,
   "id": "8178a641-a13f-4a9b-84b2-e0fe30373a39",
   "metadata": {},
   "outputs": [
    {
     "data": {
      "text/plain": [
       "7"
      ]
     },
     "execution_count": 7,
     "metadata": {},
     "output_type": "execute_result"
    }
   ],
   "source": [
    "import gc\n",
    "gc.collect()"
   ]
  },
  {
   "cell_type": "markdown",
   "id": "2aaed9ef-7f04-4f86-8503-e611c7624ccf",
   "metadata": {},
   "source": [
    "Now, select the type of parial rule and apply the expert rules based on that:"
   ]
  },
  {
   "cell_type": "code",
   "execution_count": 8,
   "id": "9a3ba7df-656d-4f5d-962d-e398a07a14cf",
   "metadata": {},
   "outputs": [],
   "source": [
    "# Method 1:\n",
    "PARTIAL_RULE = 'tag'\n",
    "# PARTIAL_RULE = 'fuzzy'\n",
    "\n",
    "# Method 2:\n",
    "# PARTIAL_RULE = 'string_ratio'"
   ]
  },
  {
   "cell_type": "code",
   "execution_count": 9,
   "id": "5596758e-d34b-47de-9ffe-81520582e697",
   "metadata": {},
   "outputs": [
    {
     "name": "stderr",
     "output_type": "stream",
     "text": [
      "/home/studio-lab-user/DeduplicationChallenge/src/embedding_process/apply_expert_rules.py:168: SettingWithCopyWarning: \n",
      "A value is trying to be set on a copy of a slice from a DataFrame.\n",
      "Try using .loc[row_indexer,col_indexer] = value instead\n",
      "\n",
      "See the caveats in the documentation: https://pandas.pydata.org/pandas-docs/stable/user_guide/indexing.html#returning-a-view-versus-a-copy\n",
      "  id_2_hash[DataDimensions.ID] = pd.to_numeric(id_2_hash[DataDimensions.ID], errors='coerce')\n",
      "100%|██████████| 1283064/1283064 [00:09<00:00, 141957.55it/s]\n"
     ]
    },
    {
     "data": {
      "application/vnd.jupyter.widget-view+json": {
       "model_id": "be36823403dd4917a00ca53a5bb69d89",
       "version_major": 2,
       "version_minor": 0
      },
      "text/plain": [
       "Batches:   0%|          | 0/566 [00:00<?, ?it/s]"
      ]
     },
     "metadata": {},
     "output_type": "display_data"
    },
    {
     "name": "stderr",
     "output_type": "stream",
     "text": [
      "Compute cosine for ['title_translated_1', 'title_translated_2']: 100%|██████████| 1283064/1283064 [00:23<00:00, 55176.55it/s]\n"
     ]
    },
    {
     "name": "stdout",
     "output_type": "stream",
     "text": [
      "Constructing temporal duplicates based on expert rules\n",
      "Constructing semantic duplicates based on expert rules\n"
     ]
    },
    {
     "name": "stderr",
     "output_type": "stream",
     "text": [
      "/home/studio-lab-user/DeduplicationChallenge/src/embedding_process/apply_expert_rules.py:317: SettingWithCopyWarning: \n",
      "A value is trying to be set on a copy of a slice from a DataFrame.\n",
      "Try using .loc[row_indexer,col_indexer] = value instead\n",
      "\n",
      "See the caveats in the documentation: https://pandas.pydata.org/pandas-docs/stable/user_guide/indexing.html#returning-a-view-versus-a-copy\n",
      "  df_semantics[\n",
      "/home/studio-lab-user/DeduplicationChallenge/src/embedding_process/apply_expert_rules.py:321: SettingWithCopyWarning: \n",
      "A value is trying to be set on a copy of a slice from a DataFrame.\n",
      "Try using .loc[row_indexer,col_indexer] = value instead\n",
      "\n",
      "See the caveats in the documentation: https://pandas.pydata.org/pandas-docs/stable/user_guide/indexing.html#returning-a-view-versus-a-copy\n",
      "  df_semantics[\n",
      "detect non overlapping descriptions: 100%|██████████| 216475/216475 [07:32<00:00, 478.41it/s] \n",
      "counting non overlaps: 100%|██████████| 216475/216475 [00:01<00:00, 122093.46it/s]\n",
      "counting non overlaps: 100%|██████████| 216475/216475 [00:01<00:00, 123631.80it/s]\n",
      "Selecting based on tags: 100%|██████████| 216475/216475 [00:01<00:00, 214726.90it/s]\n",
      "Selecting based on tags: 100%|██████████| 216475/216475 [00:00<00:00, 242973.92it/s]\n",
      "Selecting based on tags: 100%|██████████| 216475/216475 [00:00<00:00, 235874.96it/s]\n",
      "Selecting based on tags: 100%|██████████| 216475/216475 [00:00<00:00, 230528.99it/s]\n",
      "Selecting based on tags: 100%|██████████| 216475/216475 [00:00<00:00, 224409.44it/s]\n",
      "Selecting based on tags: 100%|██████████| 216475/216475 [00:00<00:00, 220768.35it/s]\n",
      "Selecting based on tags: 100%|██████████| 216475/216475 [00:00<00:00, 296382.73it/s]\n",
      "Selecting based on tags: 100%|██████████| 216475/216475 [00:00<00:00, 219383.69it/s]\n",
      "Selecting based on tags: 100%|██████████| 216475/216475 [00:00<00:00, 254710.15it/s]\n",
      "Selecting based on tags: 100%|██████████| 216475/216475 [00:00<00:00, 255662.89it/s]\n",
      "Selecting based on tags: 100%|██████████| 216475/216475 [00:00<00:00, 232955.43it/s]\n",
      "Selecting based on tags: 100%|██████████| 216475/216475 [00:00<00:00, 350872.80it/s]\n"
     ]
    },
    {
     "name": "stdout",
     "output_type": "stream",
     "text": [
      "Putting it all together...\n",
      "Saving output\n"
     ]
    }
   ],
   "source": [
    "apply_expert_rules(\n",
    "    language_embedding_model=model,\n",
    "    description_similarities=False,\n",
    "    partial_rule=PARTIAL_RULE,\n",
    "    temporal_title_similarity_unrestricted=0.8,\n",
    "    temporal_title_similarity_restricted=0.92,\n",
    "    temporal_l2_threshold=0.1)"
   ]
  },
  {
   "cell_type": "markdown",
   "id": "1a5245a2-35f5-427a-9559-afe8f16ee5cf",
   "metadata": {},
   "source": [
    "Execution time with Method tag: <b>Approximately 10 minutes</b><br>\n",
    "Execution time with Method fuzzy: <b>Less than 10 minutes</b><br>\n",
    "Execution time with Method string_ratio: <b>Less than 10 minutes</b><br>"
   ]
  },
  {
   "cell_type": "markdown",
   "id": "b7d8970d-af80-4cd1-b7db-f9d99e3bb0d6",
   "metadata": {},
   "source": [
    "And we are done! The final dataset is stored here: [`data/output_data/wi_dataset.csv`](data/output_data/duplicates.csv)."
   ]
  },
  {
   "cell_type": "markdown",
   "id": "2082465e-46b3-4e2b-8559-3d8c50c87372",
   "metadata": {},
   "source": [
    "## IV. Final output and summary"
   ]
  },
  {
   "cell_type": "markdown",
   "id": "b074129c-d53e-4c5c-bfe9-d479e8d083e0",
   "metadata": {},
   "source": [
    "Method 1 (Translating) and tag method:<br>\n",
    "Execution time:  <b>Approximately 9 hours</b><br>\n",
    "Overall F1-Score: ~82%<br><br>\n",
    "Method 2 (Not translating) and string_ratio method:<br>\n",
    "Execution time: <b>Approximately 1 hour</b><br>\n",
    "Overall F1-Score: ~60%"
   ]
  },
  {
   "cell_type": "markdown",
   "id": "a5d739ca-8ad7-4bc7-a079-774093ed386b",
   "metadata": {},
   "source": [
    "Let's now view the summary of the final output:"
   ]
  },
  {
   "cell_type": "code",
   "execution_count": 20,
   "id": "d68b4d5a-5b53-49f8-9da1-48ad6f6aec9a",
   "metadata": {},
   "outputs": [],
   "source": [
    "import pandas as pd\n",
    "from src.utilities.constants import Paths\n",
    "df = pd.read_csv(Paths.FINAL_DATA, names=['ID1', 'ID2', 'TYPE'])"
   ]
  },
  {
   "cell_type": "code",
   "execution_count": 21,
   "id": "0fe46944-b41f-4021-9f03-04b9fcb16066",
   "metadata": {},
   "outputs": [
    {
     "data": {
      "text/plain": [
       "<Axes: title={'center': 'Duplicates distribution'}>"
      ]
     },
     "execution_count": 21,
     "metadata": {},
     "output_type": "execute_result"
    },
    {
     "data": {
      "image/png": "[encoded data removed]",
      "text/plain": [
       "<Figure size 640x480 with 1 Axes>"
      ]
     },
     "metadata": {},
     "output_type": "display_data"
    }
   ],
   "source": [
    "df.TYPE.value_counts().plot(kind='bar', rot=0, color=['red', 'blue', 'green', 'purple'], title='Duplicates distribution')"
   ]
  }
 ],
 "metadata": {
  "kernelspec": {
   "display_name": "reproducibility:Python",
   "language": "python",
   "name": "conda-env-reproducibility-py"
  },
  "language_info": {
   "codemirror_mode": {
    "name": "ipython",
    "version": 3
   },
   "file_extension": ".py",
   "mimetype": "text/x-python",
   "name": "python",
   "nbconvert_exporter": "python",
   "pygments_lexer": "ipython3",
   "version": "3.11.3"
  }
 },
 "nbformat": 4,
 "nbformat_minor": 5
}
